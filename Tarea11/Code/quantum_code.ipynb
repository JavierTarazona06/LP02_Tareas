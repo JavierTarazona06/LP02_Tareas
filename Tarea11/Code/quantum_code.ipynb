{
 "cells": [
  {
   "cell_type": "markdown",
   "id": "3f0b2c6d",
   "metadata": {},
   "source": [
    "# Tarea 11 Computación cuántica: Implementación del algoritmo de búsqueda de Grovers.\n",
    "Tarazona Jimenez Javier Andres\n",
    "Muñoz Lemus Juan Sebastian\n"
   ]
  },
  {
   "cell_type": "markdown",
   "id": "35259227",
   "metadata": {},
   "source": [
    "## Ejemplo Teleportación Cuántica (Es solo un ejemplo no se si sirva)"
   ]
  },
  {
   "cell_type": "code",
   "execution_count": null,
   "id": "24a651b7",
   "metadata": {},
   "outputs": [
    {
     "ename": "ImportError",
     "evalue": "cannot import name 'Aer' from 'qiskit' (c:\\Users\\javit\\Documents\\UNAL\\LP02_Tareas\\Tarea11\\.venv\\Lib\\site-packages\\qiskit\\__init__.py)",
     "output_type": "error",
     "traceback": [
      "\u001b[31m---------------------------------------------------------------------------\u001b[39m",
      "\u001b[31mImportError\u001b[39m                               Traceback (most recent call last)",
      "\u001b[36mCell\u001b[39m\u001b[36m \u001b[39m\u001b[32mIn[1]\u001b[39m\u001b[32m, line 1\u001b[39m\n\u001b[32m----> \u001b[39m\u001b[32m1\u001b[39m \u001b[38;5;28;01mfrom\u001b[39;00m\u001b[38;5;250m \u001b[39m\u001b[34;01mqiskit\u001b[39;00m\u001b[38;5;250m \u001b[39m\u001b[38;5;28;01mimport\u001b[39;00m QuantumCircuit, Aer, execute\n\u001b[32m      2\u001b[39m \u001b[38;5;28;01mfrom\u001b[39;00m\u001b[38;5;250m \u001b[39m\u001b[34;01mqiskit\u001b[39;00m\u001b[34;01m.\u001b[39;00m\u001b[34;01mvisualization\u001b[39;00m\u001b[38;5;250m \u001b[39m\u001b[38;5;28;01mimport\u001b[39;00m plot_histogram\n\u001b[32m      3\u001b[39m \u001b[38;5;28;01mimport\u001b[39;00m\u001b[38;5;250m \u001b[39m\u001b[34;01mmatplotlib\u001b[39;00m\u001b[34;01m.\u001b[39;00m\u001b[34;01mpyplot\u001b[39;00m\u001b[38;5;250m \u001b[39m\u001b[38;5;28;01mas\u001b[39;00m\u001b[38;5;250m \u001b[39m\u001b[34;01mplt\u001b[39;00m\n",
      "\u001b[31mImportError\u001b[39m: cannot import name 'Aer' from 'qiskit' (c:\\Users\\javit\\Documents\\UNAL\\LP02_Tareas\\Tarea11\\.venv\\Lib\\site-packages\\qiskit\\__init__.py)"
     ]
    }
   ],
   "source": [
    "from qiskit import QuantumCircuit, Aer, execute\n",
    "from qiskit.visualization import plot_histogram\n",
    "import matplotlib.pyplot as plt\n",
    "\n",
    "# Crear un circuito cuántico con 1 qubit y 1 bit clásico\n",
    "circuit = QuantumCircuit(1, 1)\n",
    "\n",
    "# Aplicar puerta Hadamard para crear superposición\n",
    "circuit.h(0)\n",
    "\n",
    "# Medir el qubit y guardar el resultado en el bit clásico\n",
    "circuit.measure(0, 0)\n",
    "\n",
    "# Mostrar el circuito\n",
    "print(\"Circuito cuántico:\")\n",
    "print(circuit.draw())\n",
    "\n",
    "# Ejecutar el circuito en el simulador Aer\n",
    "simulador = Aer.get_backend('qasm_simulator')\n",
    "resultado = execute(circuit, simulador, shots=1000).result()\n",
    "\n",
    "# Obtener los conteos de resultados\n",
    "conteos = resultado.get_counts()\n",
    "\n",
    "# Mostrar los resultados en un histograma\n",
    "print(\"Resultados de la medición:\")\n",
    "print(conteos)\n",
    "plot_histogram(conteos)\n",
    "plt.show()\n"
   ]
  }
 ],
 "metadata": {
  "kernelspec": {
   "display_name": ".venv",
   "language": "python",
   "name": "python3"
  },
  "language_info": {
   "codemirror_mode": {
    "name": "ipython",
    "version": 3
   },
   "file_extension": ".py",
   "mimetype": "text/x-python",
   "name": "python",
   "nbconvert_exporter": "python",
   "pygments_lexer": "ipython3",
   "version": "3.12.3"
  }
 },
 "nbformat": 4,
 "nbformat_minor": 5
}
